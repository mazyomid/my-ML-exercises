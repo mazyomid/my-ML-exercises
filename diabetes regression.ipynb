{
 "cells": [
  {
   "cell_type": "code",
   "execution_count": 1,
   "id": "88bced5b-333c-4197-bd36-2366b078fb60",
   "metadata": {},
   "outputs": [],
   "source": [
    "import numpy as np"
   ]
  },
  {
   "cell_type": "code",
   "execution_count": 2,
   "id": "9edc8c56-0d7b-4e2f-ab89-602020eecbf1",
   "metadata": {
    "tags": []
   },
   "outputs": [],
   "source": [
    "import sklearn"
   ]
  },
  {
   "cell_type": "markdown",
   "id": "a5740631-40b9-41e1-bc4e-530310091d6f",
   "metadata": {},
   "source": [
    "## load dataset and preproccessing"
   ]
  },
  {
   "cell_type": "code",
   "execution_count": 3,
   "id": "4a83d7bd-96e3-47d5-8f96-4a863a2cf88e",
   "metadata": {},
   "outputs": [],
   "source": [
    "from sklearn.datasets import load_diabetes"
   ]
  },
  {
   "cell_type": "code",
   "execution_count": 4,
   "id": "dba9ab74-3155-46bd-9b03-f5bd13b57ab7",
   "metadata": {},
   "outputs": [],
   "source": [
    "data = load_diabetes ()"
   ]
  },
  {
   "cell_type": "code",
   "execution_count": 5,
   "id": "08fc3900-2ff6-4e34-b5e5-5808ac3e4c1b",
   "metadata": {},
   "outputs": [
    {
     "data": {
      "text/plain": [
       "(442, 10)"
      ]
     },
     "execution_count": 5,
     "metadata": {},
     "output_type": "execute_result"
    }
   ],
   "source": [
    "x= data.data\n",
    "x.shape"
   ]
  },
  {
   "cell_type": "code",
   "execution_count": 6,
   "id": "07ef98c4-557b-450e-9000-f0613d8dc9ff",
   "metadata": {},
   "outputs": [
    {
     "data": {
      "text/plain": [
       "(442,)"
      ]
     },
     "execution_count": 6,
     "metadata": {},
     "output_type": "execute_result"
    }
   ],
   "source": [
    "y=data.target\n",
    "y.shape"
   ]
  },
  {
   "cell_type": "code",
   "execution_count": 7,
   "id": "305ca808-e5dd-498c-9b9d-71d674dbf2eb",
   "metadata": {},
   "outputs": [
    {
     "data": {
      "text/plain": [
       "-0.044641636506989"
      ]
     },
     "execution_count": 7,
     "metadata": {},
     "output_type": "execute_result"
    }
   ],
   "source": [
    "x[1,1]"
   ]
  },
  {
   "cell_type": "code",
   "execution_count": 8,
   "id": "2eb04739-c7f7-443a-a04d-ae9569d62af6",
   "metadata": {},
   "outputs": [
    {
     "data": {
      "text/plain": [
       "['age', 'sex', 'bmi', 'bp', 's1', 's2', 's3', 's4', 's5', 's6']"
      ]
     },
     "execution_count": 8,
     "metadata": {},
     "output_type": "execute_result"
    }
   ],
   "source": [
    "data.feature_names"
   ]
  },
  {
   "cell_type": "code",
   "execution_count": 9,
   "id": "39474ad2-4900-4e2a-b408-11dfa33d4bdc",
   "metadata": {},
   "outputs": [],
   "source": [
    "import pandas as pd"
   ]
  },
  {
   "cell_type": "code",
   "execution_count": 10,
   "id": "6effa5f3-8ef9-4796-91ca-ff6870b3dd4f",
   "metadata": {},
   "outputs": [],
   "source": [
    "dataframe=pd.DataFrame(x,columns=['age', 'sex', 'bmi', 'bp', 's1', 's2', 's3', 's4', 's5', 's6'])"
   ]
  },
  {
   "cell_type": "code",
   "execution_count": 11,
   "id": "419c71ae-5cef-4339-9290-2949a454ac27",
   "metadata": {},
   "outputs": [],
   "source": [
    "dataframe['target']=y"
   ]
  },
  {
   "cell_type": "code",
   "execution_count": 12,
   "id": "be83be6e-3fb0-4fe6-852f-6d46805ca27f",
   "metadata": {
    "tags": []
   },
   "outputs": [
    {
     "data": {
      "text/html": [
       "<div>\n",
       "<style scoped>\n",
       "    .dataframe tbody tr th:only-of-type {\n",
       "        vertical-align: middle;\n",
       "    }\n",
       "\n",
       "    .dataframe tbody tr th {\n",
       "        vertical-align: top;\n",
       "    }\n",
       "\n",
       "    .dataframe thead th {\n",
       "        text-align: right;\n",
       "    }\n",
       "</style>\n",
       "<table border=\"1\" class=\"dataframe\">\n",
       "  <thead>\n",
       "    <tr style=\"text-align: right;\">\n",
       "      <th></th>\n",
       "      <th>age</th>\n",
       "      <th>sex</th>\n",
       "      <th>bmi</th>\n",
       "      <th>bp</th>\n",
       "      <th>s1</th>\n",
       "      <th>s2</th>\n",
       "      <th>s3</th>\n",
       "      <th>s4</th>\n",
       "      <th>s5</th>\n",
       "      <th>s6</th>\n",
       "      <th>target</th>\n",
       "    </tr>\n",
       "  </thead>\n",
       "  <tbody>\n",
       "    <tr>\n",
       "      <th>0</th>\n",
       "      <td>0.038076</td>\n",
       "      <td>0.050680</td>\n",
       "      <td>0.061696</td>\n",
       "      <td>0.021872</td>\n",
       "      <td>-0.044223</td>\n",
       "      <td>-0.034821</td>\n",
       "      <td>-0.043401</td>\n",
       "      <td>-0.002592</td>\n",
       "      <td>0.019908</td>\n",
       "      <td>-0.017646</td>\n",
       "      <td>151.0</td>\n",
       "    </tr>\n",
       "    <tr>\n",
       "      <th>1</th>\n",
       "      <td>-0.001882</td>\n",
       "      <td>-0.044642</td>\n",
       "      <td>-0.051474</td>\n",
       "      <td>-0.026328</td>\n",
       "      <td>-0.008449</td>\n",
       "      <td>-0.019163</td>\n",
       "      <td>0.074412</td>\n",
       "      <td>-0.039493</td>\n",
       "      <td>-0.068330</td>\n",
       "      <td>-0.092204</td>\n",
       "      <td>75.0</td>\n",
       "    </tr>\n",
       "    <tr>\n",
       "      <th>2</th>\n",
       "      <td>0.085299</td>\n",
       "      <td>0.050680</td>\n",
       "      <td>0.044451</td>\n",
       "      <td>-0.005671</td>\n",
       "      <td>-0.045599</td>\n",
       "      <td>-0.034194</td>\n",
       "      <td>-0.032356</td>\n",
       "      <td>-0.002592</td>\n",
       "      <td>0.002864</td>\n",
       "      <td>-0.025930</td>\n",
       "      <td>141.0</td>\n",
       "    </tr>\n",
       "    <tr>\n",
       "      <th>3</th>\n",
       "      <td>-0.089063</td>\n",
       "      <td>-0.044642</td>\n",
       "      <td>-0.011595</td>\n",
       "      <td>-0.036656</td>\n",
       "      <td>0.012191</td>\n",
       "      <td>0.024991</td>\n",
       "      <td>-0.036038</td>\n",
       "      <td>0.034309</td>\n",
       "      <td>0.022692</td>\n",
       "      <td>-0.009362</td>\n",
       "      <td>206.0</td>\n",
       "    </tr>\n",
       "    <tr>\n",
       "      <th>4</th>\n",
       "      <td>0.005383</td>\n",
       "      <td>-0.044642</td>\n",
       "      <td>-0.036385</td>\n",
       "      <td>0.021872</td>\n",
       "      <td>0.003935</td>\n",
       "      <td>0.015596</td>\n",
       "      <td>0.008142</td>\n",
       "      <td>-0.002592</td>\n",
       "      <td>-0.031991</td>\n",
       "      <td>-0.046641</td>\n",
       "      <td>135.0</td>\n",
       "    </tr>\n",
       "    <tr>\n",
       "      <th>5</th>\n",
       "      <td>-0.092695</td>\n",
       "      <td>-0.044642</td>\n",
       "      <td>-0.040696</td>\n",
       "      <td>-0.019442</td>\n",
       "      <td>-0.068991</td>\n",
       "      <td>-0.079288</td>\n",
       "      <td>0.041277</td>\n",
       "      <td>-0.076395</td>\n",
       "      <td>-0.041180</td>\n",
       "      <td>-0.096346</td>\n",
       "      <td>97.0</td>\n",
       "    </tr>\n",
       "    <tr>\n",
       "      <th>6</th>\n",
       "      <td>-0.045472</td>\n",
       "      <td>0.050680</td>\n",
       "      <td>-0.047163</td>\n",
       "      <td>-0.015999</td>\n",
       "      <td>-0.040096</td>\n",
       "      <td>-0.024800</td>\n",
       "      <td>0.000779</td>\n",
       "      <td>-0.039493</td>\n",
       "      <td>-0.062913</td>\n",
       "      <td>-0.038357</td>\n",
       "      <td>138.0</td>\n",
       "    </tr>\n",
       "    <tr>\n",
       "      <th>7</th>\n",
       "      <td>0.063504</td>\n",
       "      <td>0.050680</td>\n",
       "      <td>-0.001895</td>\n",
       "      <td>0.066630</td>\n",
       "      <td>0.090620</td>\n",
       "      <td>0.108914</td>\n",
       "      <td>0.022869</td>\n",
       "      <td>0.017703</td>\n",
       "      <td>-0.035817</td>\n",
       "      <td>0.003064</td>\n",
       "      <td>63.0</td>\n",
       "    </tr>\n",
       "    <tr>\n",
       "      <th>8</th>\n",
       "      <td>0.041708</td>\n",
       "      <td>0.050680</td>\n",
       "      <td>0.061696</td>\n",
       "      <td>-0.040099</td>\n",
       "      <td>-0.013953</td>\n",
       "      <td>0.006202</td>\n",
       "      <td>-0.028674</td>\n",
       "      <td>-0.002592</td>\n",
       "      <td>-0.014956</td>\n",
       "      <td>0.011349</td>\n",
       "      <td>110.0</td>\n",
       "    </tr>\n",
       "    <tr>\n",
       "      <th>9</th>\n",
       "      <td>-0.070900</td>\n",
       "      <td>-0.044642</td>\n",
       "      <td>0.039062</td>\n",
       "      <td>-0.033214</td>\n",
       "      <td>-0.012577</td>\n",
       "      <td>-0.034508</td>\n",
       "      <td>-0.024993</td>\n",
       "      <td>-0.002592</td>\n",
       "      <td>0.067736</td>\n",
       "      <td>-0.013504</td>\n",
       "      <td>310.0</td>\n",
       "    </tr>\n",
       "  </tbody>\n",
       "</table>\n",
       "</div>"
      ],
      "text/plain": [
       "        age       sex       bmi        bp        s1        s2        s3  \\\n",
       "0  0.038076  0.050680  0.061696  0.021872 -0.044223 -0.034821 -0.043401   \n",
       "1 -0.001882 -0.044642 -0.051474 -0.026328 -0.008449 -0.019163  0.074412   \n",
       "2  0.085299  0.050680  0.044451 -0.005671 -0.045599 -0.034194 -0.032356   \n",
       "3 -0.089063 -0.044642 -0.011595 -0.036656  0.012191  0.024991 -0.036038   \n",
       "4  0.005383 -0.044642 -0.036385  0.021872  0.003935  0.015596  0.008142   \n",
       "5 -0.092695 -0.044642 -0.040696 -0.019442 -0.068991 -0.079288  0.041277   \n",
       "6 -0.045472  0.050680 -0.047163 -0.015999 -0.040096 -0.024800  0.000779   \n",
       "7  0.063504  0.050680 -0.001895  0.066630  0.090620  0.108914  0.022869   \n",
       "8  0.041708  0.050680  0.061696 -0.040099 -0.013953  0.006202 -0.028674   \n",
       "9 -0.070900 -0.044642  0.039062 -0.033214 -0.012577 -0.034508 -0.024993   \n",
       "\n",
       "         s4        s5        s6  target  \n",
       "0 -0.002592  0.019908 -0.017646   151.0  \n",
       "1 -0.039493 -0.068330 -0.092204    75.0  \n",
       "2 -0.002592  0.002864 -0.025930   141.0  \n",
       "3  0.034309  0.022692 -0.009362   206.0  \n",
       "4 -0.002592 -0.031991 -0.046641   135.0  \n",
       "5 -0.076395 -0.041180 -0.096346    97.0  \n",
       "6 -0.039493 -0.062913 -0.038357   138.0  \n",
       "7  0.017703 -0.035817  0.003064    63.0  \n",
       "8 -0.002592 -0.014956  0.011349   110.0  \n",
       "9 -0.002592  0.067736 -0.013504   310.0  "
      ]
     },
     "execution_count": 12,
     "metadata": {},
     "output_type": "execute_result"
    }
   ],
   "source": [
    "dataframe.head(10)"
   ]
  },
  {
   "cell_type": "code",
   "execution_count": 13,
   "id": "830fb756-f94c-48a3-9f3f-c0aad5ee2072",
   "metadata": {},
   "outputs": [
    {
     "data": {
      "text/html": [
       "<div>\n",
       "<style scoped>\n",
       "    .dataframe tbody tr th:only-of-type {\n",
       "        vertical-align: middle;\n",
       "    }\n",
       "\n",
       "    .dataframe tbody tr th {\n",
       "        vertical-align: top;\n",
       "    }\n",
       "\n",
       "    .dataframe thead th {\n",
       "        text-align: right;\n",
       "    }\n",
       "</style>\n",
       "<table border=\"1\" class=\"dataframe\">\n",
       "  <thead>\n",
       "    <tr style=\"text-align: right;\">\n",
       "      <th></th>\n",
       "      <th>sex</th>\n",
       "      <th>age</th>\n",
       "    </tr>\n",
       "  </thead>\n",
       "  <tbody>\n",
       "    <tr>\n",
       "      <th>2</th>\n",
       "      <td>0.050680</td>\n",
       "      <td>0.085299</td>\n",
       "    </tr>\n",
       "    <tr>\n",
       "      <th>3</th>\n",
       "      <td>-0.044642</td>\n",
       "      <td>-0.089063</td>\n",
       "    </tr>\n",
       "  </tbody>\n",
       "</table>\n",
       "</div>"
      ],
      "text/plain": [
       "        sex       age\n",
       "2  0.050680  0.085299\n",
       "3 -0.044642 -0.089063"
      ]
     },
     "execution_count": 13,
     "metadata": {},
     "output_type": "execute_result"
    }
   ],
   "source": [
    "dataframe.loc[[2,3],['sex','age']]"
   ]
  },
  {
   "cell_type": "code",
   "execution_count": 14,
   "id": "91777f05-5269-4ca1-81f9-4b16ec547522",
   "metadata": {
    "tags": []
   },
   "outputs": [
    {
     "data": {
      "text/plain": [
       "age       -0.001882\n",
       "sex       -0.044642\n",
       "bmi       -0.051474\n",
       "bp        -0.026328\n",
       "s1        -0.008449\n",
       "s2        -0.019163\n",
       "s3         0.074412\n",
       "s4        -0.039493\n",
       "s5        -0.068330\n",
       "s6        -0.092204\n",
       "target    75.000000\n",
       "Name: 1, dtype: float64"
      ]
     },
     "execution_count": 14,
     "metadata": {},
     "output_type": "execute_result"
    }
   ],
   "source": [
    "dataframe.iloc[1]"
   ]
  },
  {
   "cell_type": "code",
   "execution_count": 15,
   "id": "e55b5310-0186-455d-9993-d4cf97eb7be3",
   "metadata": {
    "tags": []
   },
   "outputs": [
    {
     "name": "stdout",
     "output_type": "stream",
     "text": [
      "<class 'pandas.core.frame.DataFrame'>\n",
      "RangeIndex: 442 entries, 0 to 441\n",
      "Data columns (total 11 columns):\n",
      " #   Column  Non-Null Count  Dtype  \n",
      "---  ------  --------------  -----  \n",
      " 0   age     442 non-null    float64\n",
      " 1   sex     442 non-null    float64\n",
      " 2   bmi     442 non-null    float64\n",
      " 3   bp      442 non-null    float64\n",
      " 4   s1      442 non-null    float64\n",
      " 5   s2      442 non-null    float64\n",
      " 6   s3      442 non-null    float64\n",
      " 7   s4      442 non-null    float64\n",
      " 8   s5      442 non-null    float64\n",
      " 9   s6      442 non-null    float64\n",
      " 10  target  442 non-null    float64\n",
      "dtypes: float64(11)\n",
      "memory usage: 38.1 KB\n"
     ]
    }
   ],
   "source": [
    "dataframe.info()"
   ]
  },
  {
   "cell_type": "code",
   "execution_count": 16,
   "id": "f1476a7a-64ed-434c-9e8f-6f11a6674a7e",
   "metadata": {
    "tags": []
   },
   "outputs": [
    {
     "data": {
      "text/html": [
       "<div>\n",
       "<style scoped>\n",
       "    .dataframe tbody tr th:only-of-type {\n",
       "        vertical-align: middle;\n",
       "    }\n",
       "\n",
       "    .dataframe tbody tr th {\n",
       "        vertical-align: top;\n",
       "    }\n",
       "\n",
       "    .dataframe thead th {\n",
       "        text-align: right;\n",
       "    }\n",
       "</style>\n",
       "<table border=\"1\" class=\"dataframe\">\n",
       "  <thead>\n",
       "    <tr style=\"text-align: right;\">\n",
       "      <th></th>\n",
       "      <th>age</th>\n",
       "      <th>sex</th>\n",
       "      <th>bmi</th>\n",
       "      <th>bp</th>\n",
       "      <th>s1</th>\n",
       "      <th>s2</th>\n",
       "      <th>s3</th>\n",
       "      <th>s4</th>\n",
       "      <th>s5</th>\n",
       "      <th>s6</th>\n",
       "      <th>target</th>\n",
       "    </tr>\n",
       "  </thead>\n",
       "  <tbody>\n",
       "    <tr>\n",
       "      <th>count</th>\n",
       "      <td>4.420000e+02</td>\n",
       "      <td>4.420000e+02</td>\n",
       "      <td>4.420000e+02</td>\n",
       "      <td>4.420000e+02</td>\n",
       "      <td>4.420000e+02</td>\n",
       "      <td>4.420000e+02</td>\n",
       "      <td>4.420000e+02</td>\n",
       "      <td>4.420000e+02</td>\n",
       "      <td>4.420000e+02</td>\n",
       "      <td>4.420000e+02</td>\n",
       "      <td>442.000000</td>\n",
       "    </tr>\n",
       "    <tr>\n",
       "      <th>mean</th>\n",
       "      <td>-3.634285e-16</td>\n",
       "      <td>1.308343e-16</td>\n",
       "      <td>-8.045349e-16</td>\n",
       "      <td>1.281655e-16</td>\n",
       "      <td>-8.835316e-17</td>\n",
       "      <td>1.327024e-16</td>\n",
       "      <td>-4.574646e-16</td>\n",
       "      <td>3.777301e-16</td>\n",
       "      <td>-3.830854e-16</td>\n",
       "      <td>-3.412882e-16</td>\n",
       "      <td>152.133484</td>\n",
       "    </tr>\n",
       "    <tr>\n",
       "      <th>std</th>\n",
       "      <td>4.761905e-02</td>\n",
       "      <td>4.761905e-02</td>\n",
       "      <td>4.761905e-02</td>\n",
       "      <td>4.761905e-02</td>\n",
       "      <td>4.761905e-02</td>\n",
       "      <td>4.761905e-02</td>\n",
       "      <td>4.761905e-02</td>\n",
       "      <td>4.761905e-02</td>\n",
       "      <td>4.761905e-02</td>\n",
       "      <td>4.761905e-02</td>\n",
       "      <td>77.093005</td>\n",
       "    </tr>\n",
       "    <tr>\n",
       "      <th>min</th>\n",
       "      <td>-1.072256e-01</td>\n",
       "      <td>-4.464164e-02</td>\n",
       "      <td>-9.027530e-02</td>\n",
       "      <td>-1.123996e-01</td>\n",
       "      <td>-1.267807e-01</td>\n",
       "      <td>-1.156131e-01</td>\n",
       "      <td>-1.023071e-01</td>\n",
       "      <td>-7.639450e-02</td>\n",
       "      <td>-1.260974e-01</td>\n",
       "      <td>-1.377672e-01</td>\n",
       "      <td>25.000000</td>\n",
       "    </tr>\n",
       "    <tr>\n",
       "      <th>25%</th>\n",
       "      <td>-3.729927e-02</td>\n",
       "      <td>-4.464164e-02</td>\n",
       "      <td>-3.422907e-02</td>\n",
       "      <td>-3.665645e-02</td>\n",
       "      <td>-3.424784e-02</td>\n",
       "      <td>-3.035840e-02</td>\n",
       "      <td>-3.511716e-02</td>\n",
       "      <td>-3.949338e-02</td>\n",
       "      <td>-3.324879e-02</td>\n",
       "      <td>-3.317903e-02</td>\n",
       "      <td>87.000000</td>\n",
       "    </tr>\n",
       "    <tr>\n",
       "      <th>50%</th>\n",
       "      <td>5.383060e-03</td>\n",
       "      <td>-4.464164e-02</td>\n",
       "      <td>-7.283766e-03</td>\n",
       "      <td>-5.670611e-03</td>\n",
       "      <td>-4.320866e-03</td>\n",
       "      <td>-3.819065e-03</td>\n",
       "      <td>-6.584468e-03</td>\n",
       "      <td>-2.592262e-03</td>\n",
       "      <td>-1.947634e-03</td>\n",
       "      <td>-1.077698e-03</td>\n",
       "      <td>140.500000</td>\n",
       "    </tr>\n",
       "    <tr>\n",
       "      <th>75%</th>\n",
       "      <td>3.807591e-02</td>\n",
       "      <td>5.068012e-02</td>\n",
       "      <td>3.124802e-02</td>\n",
       "      <td>3.564384e-02</td>\n",
       "      <td>2.835801e-02</td>\n",
       "      <td>2.984439e-02</td>\n",
       "      <td>2.931150e-02</td>\n",
       "      <td>3.430886e-02</td>\n",
       "      <td>3.243323e-02</td>\n",
       "      <td>2.791705e-02</td>\n",
       "      <td>211.500000</td>\n",
       "    </tr>\n",
       "    <tr>\n",
       "      <th>max</th>\n",
       "      <td>1.107267e-01</td>\n",
       "      <td>5.068012e-02</td>\n",
       "      <td>1.705552e-01</td>\n",
       "      <td>1.320442e-01</td>\n",
       "      <td>1.539137e-01</td>\n",
       "      <td>1.987880e-01</td>\n",
       "      <td>1.811791e-01</td>\n",
       "      <td>1.852344e-01</td>\n",
       "      <td>1.335990e-01</td>\n",
       "      <td>1.356118e-01</td>\n",
       "      <td>346.000000</td>\n",
       "    </tr>\n",
       "  </tbody>\n",
       "</table>\n",
       "</div>"
      ],
      "text/plain": [
       "                age           sex           bmi            bp            s1  \\\n",
       "count  4.420000e+02  4.420000e+02  4.420000e+02  4.420000e+02  4.420000e+02   \n",
       "mean  -3.634285e-16  1.308343e-16 -8.045349e-16  1.281655e-16 -8.835316e-17   \n",
       "std    4.761905e-02  4.761905e-02  4.761905e-02  4.761905e-02  4.761905e-02   \n",
       "min   -1.072256e-01 -4.464164e-02 -9.027530e-02 -1.123996e-01 -1.267807e-01   \n",
       "25%   -3.729927e-02 -4.464164e-02 -3.422907e-02 -3.665645e-02 -3.424784e-02   \n",
       "50%    5.383060e-03 -4.464164e-02 -7.283766e-03 -5.670611e-03 -4.320866e-03   \n",
       "75%    3.807591e-02  5.068012e-02  3.124802e-02  3.564384e-02  2.835801e-02   \n",
       "max    1.107267e-01  5.068012e-02  1.705552e-01  1.320442e-01  1.539137e-01   \n",
       "\n",
       "                 s2            s3            s4            s5            s6  \\\n",
       "count  4.420000e+02  4.420000e+02  4.420000e+02  4.420000e+02  4.420000e+02   \n",
       "mean   1.327024e-16 -4.574646e-16  3.777301e-16 -3.830854e-16 -3.412882e-16   \n",
       "std    4.761905e-02  4.761905e-02  4.761905e-02  4.761905e-02  4.761905e-02   \n",
       "min   -1.156131e-01 -1.023071e-01 -7.639450e-02 -1.260974e-01 -1.377672e-01   \n",
       "25%   -3.035840e-02 -3.511716e-02 -3.949338e-02 -3.324879e-02 -3.317903e-02   \n",
       "50%   -3.819065e-03 -6.584468e-03 -2.592262e-03 -1.947634e-03 -1.077698e-03   \n",
       "75%    2.984439e-02  2.931150e-02  3.430886e-02  3.243323e-02  2.791705e-02   \n",
       "max    1.987880e-01  1.811791e-01  1.852344e-01  1.335990e-01  1.356118e-01   \n",
       "\n",
       "           target  \n",
       "count  442.000000  \n",
       "mean   152.133484  \n",
       "std     77.093005  \n",
       "min     25.000000  \n",
       "25%     87.000000  \n",
       "50%    140.500000  \n",
       "75%    211.500000  \n",
       "max    346.000000  "
      ]
     },
     "execution_count": 16,
     "metadata": {},
     "output_type": "execute_result"
    }
   ],
   "source": [
    "dataframe.describe()"
   ]
  },
  {
   "cell_type": "markdown",
   "id": "d82d314c-85d9-4452-9104-4261ac740387",
   "metadata": {},
   "source": [
    "## importing models"
   ]
  },
  {
   "cell_type": "code",
   "execution_count": 17,
   "id": "316e5eee-7a4d-471e-ac8b-f3625ed7bffa",
   "metadata": {
    "tags": []
   },
   "outputs": [],
   "source": [
    "from sklearn.ensemble import RandomForestRegressor,AdaBoostRegressor,GradientBoostingRegressor\n",
    "from sklearn .neural_network import MLPRegressor\n",
    "from sklearn.svm import SVR,LinearSVR\n",
    "from sklearn.linear_model import LinearRegression\n",
    "from sklearn.tree import DecisionTreeRegressor\n",
    "from sklearn.decomposition import PCA,KernelPCA,IncrementalPCA\n"
   ]
  },
  {
   "cell_type": "code",
   "execution_count": 18,
   "id": "cd933bc1-ad1a-4c65-b358-174576bafab9",
   "metadata": {
    "tags": []
   },
   "outputs": [],
   "source": [
    "from sklearn.model_selection import train_test_split\n",
    "from sklearn. metrics import mean_squared_error, mean_absolute_error"
   ]
  },
  {
   "cell_type": "markdown",
   "id": "5b727b83-7a84-4407-aaf2-180f751bfd1f",
   "metadata": {},
   "source": [
    "## function to train different models"
   ]
  },
  {
   "cell_type": "code",
   "execution_count": 19,
   "id": "da848778-c6ea-4265-971e-cba415c47adb",
   "metadata": {},
   "outputs": [],
   "source": [
    "def regression (x, y):\n",
    "    m1 = GradientBoostingRegressor ()\n",
    "    m2 = MLPRegressor ()\n",
    "    m3 = LinearSVR ()\n",
    "    m4 = DecisionTreeRegressor ()\n",
    "    m5 = LinearRegression ()\n",
    "\n",
    "    models = [m1,m2,m3,m4,m5]\n",
    "\n",
    "    MSE = []\n",
    "    MAE = []\n",
    "    x_train,x_test,y_train,y_test= train_test_split(x,y)\n",
    "    for model in models:\n",
    "        \n",
    "        y_pred = model.fit (x_train, y_train).predict (x_test)\n",
    "        mse = mean_squared_error (y_test, y_pred)\n",
    "        mae = mean_absolute_error (y_test, y_pred)\n",
    "        MSE.append(mse)\n",
    "        MAE.append(mae)\n",
    "        \n",
    "    print('The mean squared error (MSE) on test set: = {} \\n'.format(MSE))\n",
    "    print('The mean absolute error (MAE) on test set = {}  \\n' .format (MAE))\n",
    "    print('sorted_MSE: {} \\n '. format (np.argsort(MSE)))\n",
    "              \n",
    "    best_model = models[np.argsort(MSE)[0]]      \n",
    "    print('best model: {} \\n'.format(str(best_model)))\n",
    "          \n",
    "    y_pred = best_model.fit (x_train, y_train).predict (x_test)\n",
    "    print( mean_absolute_error(y_pred,y_test))\n",
    "    \n",
    "    return y_pred\n",
    "    "
   ]
  },
  {
   "cell_type": "code",
   "execution_count": 20,
   "id": "d1e53ae7-5b69-4fba-81e2-9ee22895e92b",
   "metadata": {},
   "outputs": [
    {
     "name": "stdout",
     "output_type": "stream",
     "text": [
      "The mean squared error (MSE) on test set: = [3185.770007723676, 23179.79553474787, 7704.276481712846, 7090.738738738739, 2359.748725693802] \n",
      "\n",
      "The mean absolute error (MAE) on test set = [44.44725469618727, 132.7516665544571, 69.04434538910377, 65.65765765765765, 39.84404947343283]  \n",
      "\n",
      "sorted_MSE: [4 0 3 2 1] \n",
      " \n",
      "best model: LinearRegression() \n",
      "\n",
      "39.84404947343283\n"
     ]
    },
    {
     "name": "stderr",
     "output_type": "stream",
     "text": [
      "C:\\Users\\marziyeh\\anaconda3\\lib\\site-packages\\sklearn\\neural_network\\_multilayer_perceptron.py:614: ConvergenceWarning: Stochastic Optimizer: Maximum iterations (200) reached and the optimization hasn't converged yet.\n",
      "  warnings.warn(\n"
     ]
    }
   ],
   "source": [
    "y_pred =regression(x,y)"
   ]
  },
  {
   "cell_type": "markdown",
   "id": "132afb47-34ca-435a-abd5-d46275584e1f",
   "metadata": {},
   "source": [
    "## pca"
   ]
  },
  {
   "cell_type": "code",
   "execution_count": 21,
   "id": "1ff205bc-050f-42d3-8c00-aeabf1290262",
   "metadata": {},
   "outputs": [],
   "source": [
    "dim_red = PCA (n_components=5)"
   ]
  },
  {
   "cell_type": "code",
   "execution_count": 23,
   "id": "189ce0fb-7766-4c8d-a701-e499f402dc22",
   "metadata": {},
   "outputs": [],
   "source": [
    "x_red = dim_red.fit_transform (x)"
   ]
  },
  {
   "cell_type": "code",
   "execution_count": 25,
   "id": "2e4010af-7804-4407-9e6c-e02b9f62368a",
   "metadata": {},
   "outputs": [
    {
     "name": "stdout",
     "output_type": "stream",
     "text": [
      "The mean squared error (MSE) on test set: = [4026.370485530998, 26184.319309933322, 9015.698674463849, 8122.045045045045, 3179.076106493407] \n",
      "\n",
      "The mean absolute error (MAE) on test set = [52.26427277904853, 142.39929806122058, 76.39393804143951, 71.90090090090091, 45.07880691311963]  \n",
      "\n",
      "sorted_MSE: [4 0 3 2 1] \n",
      " \n",
      "best model: LinearRegression() \n",
      "\n",
      "45.07880691311963\n"
     ]
    },
    {
     "name": "stderr",
     "output_type": "stream",
     "text": [
      "C:\\Users\\marziyeh\\anaconda3\\lib\\site-packages\\sklearn\\neural_network\\_multilayer_perceptron.py:614: ConvergenceWarning: Stochastic Optimizer: Maximum iterations (200) reached and the optimization hasn't converged yet.\n",
      "  warnings.warn(\n"
     ]
    },
    {
     "data": {
      "text/plain": [
       "array([197.01210352,  82.23557679, 171.38757711, 148.07573275,\n",
       "       160.47898064, 190.55491463, 156.45803731, 230.94720726,\n",
       "       226.98681795, 127.00700962, 113.57990445, 130.60849644,\n",
       "       117.67604235, 184.32673435, 147.49383139,  81.00361945,\n",
       "       179.47780595, 105.54925312, 250.22550612, 172.04945452,\n",
       "       176.99603304, 121.41434134,  66.55627343, 202.622172  ,\n",
       "       155.67976226, 234.68548653, 198.43949595, 104.77879958,\n",
       "        71.78372305, 147.06610086, 143.42155651, 107.72523585,\n",
       "       106.78728187, 114.59337893, 157.12774105, 180.90893851,\n",
       "       210.77149969, 104.67672614, 131.57694113, 198.82618484,\n",
       "       150.71088459, 154.23807316, 216.03349338, 191.85021014,\n",
       "       177.18851724, 155.73762757, 123.92389296, 160.27443187,\n",
       "        69.82398883, 105.91212204, 151.70427825, 232.40276521,\n",
       "        85.55019011, 132.25568357, 110.47389153, 180.94137603,\n",
       "       255.23192675, 115.30376954, 153.21025053, 117.87629746,\n",
       "       110.89879332, 225.94951766, 118.64931656, 240.8057887 ,\n",
       "       139.73126546,  62.28384768, 205.47853203, 172.74826205,\n",
       "       127.52294149, 176.22038274,  87.79412773, 120.99724419,\n",
       "       100.58822504,  85.67309438, 232.4765974 , 150.92734434,\n",
       "       202.7661138 , 147.91289696, 117.41846104, 155.43719785,\n",
       "       202.20500402, 216.18941457, 203.9586121 , 198.23372266,\n",
       "       119.54139141, 261.22539796,  83.27157486, 152.77258112,\n",
       "       142.14761355, 113.4704299 , 298.29272202, 197.16464594,\n",
       "       190.20388334,  47.98063734, 288.12682824, 172.56850373,\n",
       "       110.1169708 , 188.46955335, 102.20921924,  77.94386485,\n",
       "       112.18484839,  90.70640103, 180.71581152, 179.37925601,\n",
       "       161.301646  , 150.87677852,  79.86003448, 176.23809269,\n",
       "       115.24833498, 227.89281226, 190.51225741])"
      ]
     },
     "execution_count": 25,
     "metadata": {},
     "output_type": "execute_result"
    }
   ],
   "source": [
    "regression(x_red,y)"
   ]
  },
  {
   "cell_type": "markdown",
   "id": "570eaa79-c0ea-470d-8833-8ef653bc18d9",
   "metadata": {},
   "source": [
    "## feature selection"
   ]
  },
  {
   "cell_type": "markdown",
   "id": "7fba0519-8c3b-462d-88c4-3600088ef71e",
   "metadata": {},
   "source": [
    "#### RFE for Regression"
   ]
  },
  {
   "cell_type": "code",
   "execution_count": 35,
   "id": "ecc98f81-5ddc-4a8e-974d-7d12406aa81e",
   "metadata": {},
   "outputs": [],
   "source": [
    "from numpy import mean\n",
    "from numpy import std\n",
    "from sklearn.model_selection import cross_val_score\n",
    "from sklearn.model_selection import RepeatedKFold\n",
    "from sklearn.feature_selection import RFE\n",
    "from sklearn.pipeline import Pipeline"
   ]
  },
  {
   "cell_type": "code",
   "execution_count": 38,
   "id": "e2a7c311-95d9-4165-8207-c25ca300827e",
   "metadata": {},
   "outputs": [
    {
     "name": "stdout",
     "output_type": "stream",
     "text": [
      "MAE: -64.901 (4.997)\n"
     ]
    }
   ],
   "source": [
    "rfe = RFE(estimator=DecisionTreeRegressor(), n_features_to_select=5)\n",
    "model = DecisionTreeRegressor()\n",
    "pipeline = Pipeline(steps=[('s',rfe),('m',model)])\n",
    "cv = RepeatedKFold(n_splits=5, n_repeats=3, random_state=1)\n",
    "n_scores = cross_val_score(pipeline, x, y, scoring='neg_mean_absolute_error', cv=cv, n_jobs=-1, error_score='raise')\n",
    "print('MAE: %.3f (%.3f)' % (mean(n_scores), std(n_scores)))"
   ]
  },
  {
   "cell_type": "markdown",
   "id": "7368a395-0fe6-48ea-a0bf-5a2ce918127b",
   "metadata": {},
   "source": [
    "### filter method"
   ]
  },
  {
   "cell_type": "code",
   "execution_count": 41,
   "id": "44c126df-a160-474c-ad81-161391ce9a42",
   "metadata": {},
   "outputs": [],
   "source": [
    "from sklearn.feature_selection import SelectKBest\n",
    "from sklearn.feature_selection import f_regression"
   ]
  },
  {
   "cell_type": "code",
   "execution_count": 43,
   "id": "96c69c51-23e8-4c47-8f25-6212c259251c",
   "metadata": {},
   "outputs": [
    {
     "name": "stdout",
     "output_type": "stream",
     "text": [
      "(442, 5)\n"
     ]
    }
   ],
   "source": [
    "fs = SelectKBest(score_func=f_regression, k=5)\n",
    "X_selected = fs.fit_transform(x, y)\n",
    "print(X_selected.shape)"
   ]
  },
  {
   "cell_type": "code",
   "execution_count": 44,
   "id": "b1ac9afb-6205-42da-8c53-714581cda327",
   "metadata": {},
   "outputs": [
    {
     "name": "stdout",
     "output_type": "stream",
     "text": [
      "The mean squared error (MSE) on test set: = [3306.2361283781433, 22851.567373691396, 7352.060291296226, 7153.540540540541, 2625.982492424024] \n",
      "\n",
      "The mean absolute error (MAE) on test set = [45.91683017867025, 133.49644794026872, 63.955974992095655, 67.50450450450451, 40.73117218384319]  \n",
      "\n",
      "sorted_MSE: [4 0 3 2 1] \n",
      " \n",
      "best model: LinearRegression() \n",
      "\n",
      "40.73117218384319\n"
     ]
    },
    {
     "name": "stderr",
     "output_type": "stream",
     "text": [
      "C:\\Users\\marziyeh\\anaconda3\\lib\\site-packages\\sklearn\\neural_network\\_multilayer_perceptron.py:614: ConvergenceWarning: Stochastic Optimizer: Maximum iterations (200) reached and the optimization hasn't converged yet.\n",
      "  warnings.warn(\n"
     ]
    },
    {
     "data": {
      "text/plain": [
       "array([217.13203241, 183.63304684,  53.54806183,  41.10567723,\n",
       "       200.2479229 , 126.41181248, 154.0836295 ,  86.485712  ,\n",
       "       111.53967896, 112.52478401, 178.04954372, 175.40224021,\n",
       "       134.20560633, 241.29384433, 193.77669928, 167.18573532,\n",
       "       123.9420013 , 104.07775508,  65.84130147, 189.59117406,\n",
       "       277.28213279, 204.54576609, 208.09922198, 244.51299164,\n",
       "       217.08730923, 139.64615574, 226.44259657, 203.98625057,\n",
       "       123.56591937,  51.10206576,  78.78480441, 119.99792524,\n",
       "       236.62766851, 143.32936799, 163.36882382, 210.3595813 ,\n",
       "       157.56264883, 174.30206455, 116.52076301, 142.86600006,\n",
       "       140.18962517,  69.50090686, 233.22573207, 153.19308224,\n",
       "       180.31899303, 171.59603668, 180.51301287, 173.21041588,\n",
       "       118.1973632 , 140.14813297, 181.79051124, 203.10417686,\n",
       "       274.58794282, 164.91000643, 103.06362416, 152.06646899,\n",
       "       123.49755157, 226.80324365,  88.35925954,  86.27837925,\n",
       "       208.40076215, 176.80183708, 142.55599117, 136.52481906,\n",
       "       192.30732182,  59.08577716, 110.69879778, 230.08645758,\n",
       "       178.28137222, 118.94856951, 171.0653386 ,  94.11759165,\n",
       "       210.83479085, 200.56199222, 189.58457827, 118.00140416,\n",
       "       188.42534982, 197.40140565, 121.81893622, 230.37072768,\n",
       "       172.60401517, 166.53995918, 133.25939012, 130.44232056,\n",
       "       117.15348618, 133.17589437, 159.45505238, 224.77229234,\n",
       "       121.95959885, 134.30604505, 287.54640374, 138.23774259,\n",
       "       166.55293394, 178.61237201,  97.58221271, 133.91360486,\n",
       "       116.24121023, 191.38858347, 218.91823742, 207.42036176,\n",
       "       188.56198538, 158.45175477, 182.20864925, 240.88860789,\n",
       "       141.30031368, 260.49330623, 222.6095453 ,  98.22103076,\n",
       "        77.95617006, 217.34986424, 105.32614437])"
      ]
     },
     "execution_count": 44,
     "metadata": {},
     "output_type": "execute_result"
    }
   ],
   "source": [
    "regression(X_selected,y)"
   ]
  },
  {
   "cell_type": "markdown",
   "id": "f391b101-b33a-499d-88a2-69597304fab2",
   "metadata": {},
   "source": [
    "### it made a little differnce"
   ]
  },
  {
   "cell_type": "code",
   "execution_count": null,
   "id": "c73d29ed-9223-4bf5-a196-201316b1e05d",
   "metadata": {},
   "outputs": [],
   "source": []
  }
 ],
 "metadata": {
  "kernelspec": {
   "display_name": "Python 3 (ipykernel)",
   "language": "python",
   "name": "python3"
  },
  "language_info": {
   "codemirror_mode": {
    "name": "ipython",
    "version": 3
   },
   "file_extension": ".py",
   "mimetype": "text/x-python",
   "name": "python",
   "nbconvert_exporter": "python",
   "pygments_lexer": "ipython3",
   "version": "3.9.7"
  }
 },
 "nbformat": 4,
 "nbformat_minor": 5
}
